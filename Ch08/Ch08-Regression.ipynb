{
 "cells": [
  {
   "cell_type": "markdown",
   "metadata": {},
   "source": [
    "#预测数值型数据：回归"
   ]
  },
  {
   "cell_type": "code",
   "execution_count": 81,
   "metadata": {
    "collapsed": true
   },
   "outputs": [],
   "source": [
    "from numpy import *\n",
    "seterr(invalid='ignore')\n",
    "\n",
    "def loadDataSet(fileName):      #general function to parse tab -delimited floats\n",
    "    numFeat = len(open(fileName).readline().split('\\t')) - 1 #get number of fields \n",
    "    dataMat = []; labelMat = []\n",
    "    fr = open(fileName)\n",
    "    for line in fr.readlines():\n",
    "        lineArr =[]\n",
    "        curLine = line.strip().split('\\t')\n",
    "        for i in range(numFeat):\n",
    "            lineArr.append(float(curLine[i]))\n",
    "        dataMat.append(lineArr)\n",
    "        labelMat.append(float(curLine[-1]))\n",
    "    return dataMat,labelMat\n",
    "\n",
    "def standRegres(xArr,yArr):\n",
    "    xMat = mat(xArr); yMat = mat(yArr).T\n",
    "    xTx = xMat.T*xMat\n",
    "    if linalg.det(xTx) == 0.0:\n",
    "        print \"This matrix is singular, cannot do inverse\"\n",
    "        return\n",
    "    ws = xTx.I * (xMat.T*yMat)\n",
    "    return ws"
   ]
  },
  {
   "cell_type": "code",
   "execution_count": 82,
   "metadata": {
    "collapsed": false
   },
   "outputs": [
    {
     "data": {
      "text/plain": [
       "[[1.0, 0.067732], [1.0, 0.42781]]"
      ]
     },
     "execution_count": 82,
     "metadata": {},
     "output_type": "execute_result"
    }
   ],
   "source": [
    "xArr,yArr=loadDataSet('ex0.txt')\n",
    "xArr[0:2]"
   ]
  },
  {
   "cell_type": "code",
   "execution_count": 83,
   "metadata": {
    "collapsed": false
   },
   "outputs": [
    {
     "data": {
      "text/plain": [
       "matrix([[ 3.00774324],\n",
       "        [ 1.69532264]])"
      ]
     },
     "execution_count": 83,
     "metadata": {},
     "output_type": "execute_result"
    }
   ],
   "source": [
    "ws=standRegres(xArr,yArr)\n",
    "ws"
   ]
  },
  {
   "cell_type": "code",
   "execution_count": 84,
   "metadata": {
    "collapsed": true
   },
   "outputs": [],
   "source": [
    "xMat=mat(xArr)\n",
    "yMat=mat(yArr)\n",
    "yHat=xMat*ws"
   ]
  },
  {
   "cell_type": "code",
   "execution_count": 85,
   "metadata": {
    "collapsed": false
   },
   "outputs": [
    {
     "data": {
      "image/png": "[encoded data removed]",
      "text/plain": [
       "<matplotlib.figure.Figure at 0x7f53ec8b0790>"
      ]
     },
     "metadata": {},
     "output_type": "display_data"
    }
   ],
   "source": [
    "import matplotlib.pyplot as plt\n",
    "import matplotlib\n",
    "%matplotlib inline\n",
    "fig=plt.figure()\n",
    "ax=fig.add_subplot(111)\n",
    "ax.scatter(xMat[:,1].flatten().A[0], yMat.T[:,0].flatten().A[0])\n",
    "\n",
    "xCopy=xMat.copy()\n",
    "xCopy.sort(0)\n",
    "yHat=xCopy*ws\n",
    "ax.plot(xCopy[:,1],yHat)\n",
    "plt.show()"
   ]
  },
  {
   "cell_type": "code",
   "execution_count": 86,
   "metadata": {
    "collapsed": false
   },
   "outputs": [
    {
     "data": {
      "text/plain": [
       "array([[ 1.        ,  0.98647356],\n",
       "       [ 0.98647356,  1.        ]])"
      ]
     },
     "execution_count": 86,
     "metadata": {},
     "output_type": "execute_result"
    }
   ],
   "source": [
    "yHat=xMat*ws\n",
    "corrcoef(yHat.T,yMat)"
   ]
  },
  {
   "cell_type": "code",
   "execution_count": 87,
   "metadata": {
    "collapsed": true
   },
   "outputs": [],
   "source": [
    "def lwlr(testPoint,xArr,yArr,k=1.0):\n",
    "    xMat = mat(xArr); yMat = mat(yArr).T\n",
    "    m = shape(xMat)[0]\n",
    "    weights = mat(eye((m)))\n",
    "    for j in range(m):                      #next 2 lines create weights matrix\n",
    "        diffMat = testPoint - xMat[j,:]     #\n",
    "        weights[j,j] = exp(diffMat*diffMat.T/(-2.0*k**2))\n",
    "    xTx = xMat.T * (weights * xMat)\n",
    "    if linalg.det(xTx) == 0.0:\n",
    "        print \"This matrix is singular, cannot do inverse\"\n",
    "        return\n",
    "    ws = xTx.I * (xMat.T * (weights * yMat))\n",
    "    return testPoint * ws\n",
    "\n",
    "def lwlrTest(testArr,xArr,yArr,k=1.0):  #loops over all the data points and applies lwlr to each one\n",
    "    m = shape(testArr)[0]\n",
    "    yHat = zeros(m)\n",
    "    for i in range(m):\n",
    "        yHat[i] = lwlr(testArr[i],xArr,yArr,k)\n",
    "    return yHat"
   ]
  },
  {
   "cell_type": "code",
   "execution_count": 88,
   "metadata": {
    "collapsed": true
   },
   "outputs": [],
   "source": [
    "xArr,yArr=loadDataSet('ex0.txt')"
   ]
  },
  {
   "cell_type": "code",
   "execution_count": 89,
   "metadata": {
    "collapsed": false
   },
   "outputs": [
    {
     "data": {
      "text/plain": [
       "3.176513"
      ]
     },
     "execution_count": 89,
     "metadata": {},
     "output_type": "execute_result"
    }
   ],
   "source": [
    "yArr[0]"
   ]
  },
  {
   "cell_type": "code",
   "execution_count": 90,
   "metadata": {
    "collapsed": false
   },
   "outputs": [
    {
     "data": {
      "text/plain": [
       "matrix([[ 3.12204471]])"
      ]
     },
     "execution_count": 90,
     "metadata": {},
     "output_type": "execute_result"
    }
   ],
   "source": [
    "lwlr(xArr[0],xArr,yArr,1.0)"
   ]
  },
  {
   "cell_type": "code",
   "execution_count": 91,
   "metadata": {
    "collapsed": false
   },
   "outputs": [
    {
     "data": {
      "text/plain": [
       "matrix([[ 3.20175729]])"
      ]
     },
     "execution_count": 91,
     "metadata": {},
     "output_type": "execute_result"
    }
   ],
   "source": [
    "lwlr(xArr[0],xArr,yArr,0.001)"
   ]
  },
  {
   "cell_type": "code",
   "execution_count": 92,
   "metadata": {
    "collapsed": false
   },
   "outputs": [
    {
     "data": {
      "image/png": "[encoded data removed]",
      "text/plain": [
       "<matplotlib.figure.Figure at 0x7f53ec607e50>"
      ]
     },
     "metadata": {},
     "output_type": "display_data"
    }
   ],
   "source": [
    "yHat=lwlrTest(xArr,xArr,yArr,1.0)\n",
    "xMat=mat(xArr)\n",
    "srtInd=xMat[:,1].argsort(0)\n",
    "xSort=xMat[srtInd][:,0,:]\n",
    "fig=plt.figure()\n",
    "ax=fig.add_subplot(111)\n",
    "ax.plot(xSort[:,1],yHat[srtInd])\n",
    "ax.scatter(xMat[:,1].flatten().A[0], mat(yArr).T.flatten().A[0],s=2,c='red')\n",
    "plt.show()"
   ]
  },
  {
   "cell_type": "code",
   "execution_count": 93,
   "metadata": {
    "collapsed": false
   },
   "outputs": [
    {
     "data": {
      "image/png": "[encoded data removed]",
      "text/plain": [
       "<matplotlib.figure.Figure at 0x7f53ec6c7690>"
      ]
     },
     "metadata": {},
     "output_type": "display_data"
    }
   ],
   "source": [
    "yHat=lwlrTest(xArr,xArr,yArr,0.01)\n",
    "xMat=mat(xArr)\n",
    "srtInd=xMat[:,1].argsort(0)\n",
    "xSort=xMat[srtInd][:,0,:]\n",
    "fig=plt.figure()\n",
    "ax=fig.add_subplot(111)\n",
    "ax.plot(xSort[:,1],yHat[srtInd])\n",
    "ax.scatter(xMat[:,1].flatten().A[0], mat(yArr).T.flatten().A[0],s=2,c='red')\n",
    "plt.show()"
   ]
  },
  {
   "cell_type": "code",
   "execution_count": 94,
   "metadata": {
    "collapsed": false
   },
   "outputs": [
    {
     "data": {
      "image/png": "[encoded data removed]",
      "text/plain": [
       "<matplotlib.figure.Figure at 0x7f53ec805a90>"
      ]
     },
     "metadata": {},
     "output_type": "display_data"
    }
   ],
   "source": [
    "yHat=lwlrTest(xArr,xArr,yArr,0.003)\n",
    "xMat=mat(xArr)\n",
    "srtInd=xMat[:,1].argsort(0)\n",
    "xSort=xMat[srtInd][:,0,:]\n",
    "fig=plt.figure()\n",
    "ax=fig.add_subplot(111)\n",
    "ax.plot(xSort[:,1],yHat[srtInd])\n",
    "ax.scatter(xMat[:,1].flatten().A[0], mat(yArr).T.flatten().A[0],s=2,c='red')\n",
    "plt.show()"
   ]
  },
  {
   "cell_type": "code",
   "execution_count": 95,
   "metadata": {
    "collapsed": true
   },
   "outputs": [],
   "source": [
    "def rssError(yArr,yHatArr): #yArr and yHatArr both need to be arrays\n",
    "    return ((yArr-yHatArr)**2).sum()"
   ]
  },
  {
   "cell_type": "code",
   "execution_count": 96,
   "metadata": {
    "collapsed": false
   },
   "outputs": [],
   "source": [
    "abX,abY=loadDataSet('abalone.txt')\n",
    "yHat01=lwlrTest(abX[0:99],abX[0:99],abY[0:99],0.1)\n",
    "yHat1=lwlrTest(abX[0:99],abX[0:99],abY[0:99],1)\n",
    "yHat10=lwlrTest(abX[0:99],abX[0:99],abY[0:99],10)"
   ]
  },
  {
   "cell_type": "code",
   "execution_count": 97,
   "metadata": {
    "collapsed": false
   },
   "outputs": [
    {
     "name": "stdout",
     "output_type": "stream",
     "text": [
      "56.7848923016\n",
      "429.89056187\n",
      "549.118170882\n"
     ]
    }
   ],
   "source": [
    "print rssError(abY[0:99],yHat01.T)\n",
    "print rssError(abY[0:99],yHat1.T)\n",
    "print rssError(abY[0:99],yHat10.T)"
   ]
  },
  {
   "cell_type": "code",
   "execution_count": 98,
   "metadata": {
    "collapsed": false
   },
   "outputs": [
    {
     "name": "stdout",
     "output_type": "stream",
     "text": [
      "37359.648606\n",
      "573.52614419\n",
      "517.571190538\n"
     ]
    }
   ],
   "source": [
    "yHat01=lwlrTest(abX[100:199],abX[0:99],abY[0:99],0.1)\n",
    "print rssError(abY[100:199],yHat01.T)\n",
    "yHat1=lwlrTest(abX[100:199],abX[0:99],abY[0:99],1)\n",
    "print rssError(abY[100:199],yHat1.T)\n",
    "yHat10=lwlrTest(abX[100:199],abX[0:99],abY[0:99],10)\n",
    "print rssError(abY[100:199],yHat10.T)"
   ]
  },
  {
   "cell_type": "code",
   "execution_count": 99,
   "metadata": {
    "collapsed": false
   },
   "outputs": [
    {
     "data": {
      "text/plain": [
       "518.6363153244863"
      ]
     },
     "execution_count": 99,
     "metadata": {},
     "output_type": "execute_result"
    }
   ],
   "source": [
    "ws=standRegres(abX[0:99],abY[0:99])\n",
    "yHat=mat(abX[100:199])*ws\n",
    "rssError(abY[100:199],yHat.T.A)"
   ]
  },
  {
   "cell_type": "code",
   "execution_count": 100,
   "metadata": {
    "collapsed": true
   },
   "outputs": [],
   "source": [
    "def ridgeRegres(xMat,yMat,lam=0.2):\n",
    "    xTx = xMat.T*xMat\n",
    "    denom = xTx + eye(shape(xMat)[1])*lam\n",
    "    if linalg.det(denom) == 0.0:\n",
    "        print \"This matrix is singular, cannot do inverse\"\n",
    "        return\n",
    "    ws = denom.I * (xMat.T*yMat)\n",
    "    return ws\n",
    "    \n",
    "def ridgeTest(xArr,yArr):\n",
    "    xMat = mat(xArr); yMat=mat(yArr).T\n",
    "    yMean = mean(yMat,0)\n",
    "    yMat = yMat - yMean     #to eliminate X0 take mean off of Y\n",
    "    #regularize X's\n",
    "    xMeans = mean(xMat,0)   #calc mean then subtract it off\n",
    "    xVar = var(xMat,0)      #calc variance of Xi then divide by it\n",
    "    xMat = (xMat - xMeans)/xVar\n",
    "    numTestPts = 30\n",
    "    wMat = zeros((numTestPts,shape(xMat)[1]))\n",
    "    for i in range(numTestPts):\n",
    "        ws = ridgeRegres(xMat,yMat,exp(i-10))\n",
    "        wMat[i,:]=ws.T\n",
    "    return wMat"
   ]
  },
  {
   "cell_type": "code",
   "execution_count": 101,
   "metadata": {
    "collapsed": false
   },
   "outputs": [
    {
     "data": {
      "image/png": "[encoded data removed]",
      "text/plain": [
       "<matplotlib.figure.Figure at 0x7f53ec6d8bd0>"
      ]
     },
     "metadata": {},
     "output_type": "display_data"
    }
   ],
   "source": [
    "abX,abY=loadDataSet(\"abalone.txt\")\n",
    "ridgeWeights=ridgeTest(abX,abY)\n",
    "fig=plt.figure()\n",
    "ax=fig.add_subplot(111)\n",
    "ax.plot(ridgeWeights)\n",
    "plt.show()"
   ]
  },
  {
   "cell_type": "code",
   "execution_count": 120,
   "metadata": {
    "collapsed": true
   },
   "outputs": [],
   "source": [
    "def regularize(xMat):#regularize by columns\n",
    "    inMat = xMat.copy()\n",
    "    inMeans = mean(inMat,0)   #calc mean then subtract it off\n",
    "    inVar = var(inMat,0)      #calc variance of Xi then divide by it\n",
    "    inMat = (inMat - inMeans)/inVar\n",
    "    return inMat\n",
    "\n",
    "def stageWise(xArr,yArr,eps=0.01,numIt=100):\n",
    "    xMat = mat(xArr); yMat=mat(yArr).T\n",
    "    yMean = mean(yMat,0)\n",
    "    yMat = yMat - yMean     #can also regularize ys but will get smaller coef\n",
    "    xMat = regularize(xMat)\n",
    "    m,n=shape(xMat)\n",
    "    returnMat = zeros((numIt,n)) #testing code remove\n",
    "    ws = zeros((n,1)); wsTest = ws.copy(); wsMax = ws.copy()\n",
    "    for i in range(numIt):#could change this to while loop\n",
    "        #print ws.T\n",
    "        lowestError = inf; \n",
    "        for j in range(n):\n",
    "            for sign in [-1,1]:\n",
    "                wsTest = ws.copy()\n",
    "                wsTest[j] += eps*sign\n",
    "                yTest = xMat*wsTest\n",
    "                rssE = rssError(yMat.A,yTest.A)\n",
    "                if rssE < lowestError:\n",
    "                    lowestError = rssE\n",
    "                    wsMax = wsTest\n",
    "        ws = wsMax.copy()\n",
    "        returnMat[i,:]=ws.T\n",
    "    return returnMat"
   ]
  },
  {
   "cell_type": "code",
   "execution_count": 128,
   "metadata": {
    "collapsed": false
   },
   "outputs": [
    {
     "data": {
      "image/png": "[encoded data removed]",
      "text/plain": [
       "<matplotlib.figure.Figure at 0x7f53ec783310>"
      ]
     },
     "metadata": {},
     "output_type": "display_data"
    }
   ],
   "source": [
    "xArr,yArr=loadDataSet(\"abalone.txt\")\n",
    "Weight=stageWise(xArr,yArr,0.01,200)\n",
    "fig=plt.figure()\n",
    "ax=fig.add_subplot(111)\n",
    "ax.plot(Weight)\n",
    "plt.show()"
   ]
  },
  {
   "cell_type": "code",
   "execution_count": 130,
   "metadata": {
    "collapsed": false
   },
   "outputs": [
    {
     "data": {
      "image/png": "[encoded data removed]",
      "text/plain": [
       "<matplotlib.figure.Figure at 0x7f53ec568850>"
      ]
     },
     "metadata": {},
     "output_type": "display_data"
    }
   ],
   "source": [
    "xArr,yArr=loadDataSet(\"abalone.txt\")\n",
    "Weight=stageWise(xArr,yArr,0.001,5000)\n",
    "fig=plt.figure()\n",
    "ax=fig.add_subplot(111)\n",
    "ax.plot(Weight)\n",
    "plt.show()"
   ]
  },
  {
   "cell_type": "code",
   "execution_count": 131,
   "metadata": {
    "collapsed": false
   },
   "outputs": [
    {
     "data": {
      "image/png": "[encoded data removed]",
      "text/plain": [
       "<matplotlib.figure.Figure at 0x7f53ec446610>"
      ]
     },
     "metadata": {},
     "output_type": "display_data"
    }
   ],
   "source": [
    "xArr,yArr=loadDataSet(\"abalone.txt\")\n",
    "Weight=stageWise(xArr,yArr,0.005,1000)\n",
    "fig=plt.figure()\n",
    "ax=fig.add_subplot(111)\n",
    "ax.plot(Weight)\n",
    "plt.show()"
   ]
  },
  {
   "cell_type": "code",
   "execution_count": 122,
   "metadata": {
    "collapsed": false
   },
   "outputs": [
    {
     "data": {
      "text/plain": [
       "matrix([[ 0.0430442 , -0.02274163,  0.13214087,  0.02075182,  2.22403814,\n",
       "         -0.99895312, -0.11725427,  0.16622915]])"
      ]
     },
     "execution_count": 122,
     "metadata": {},
     "output_type": "execute_result"
    }
   ],
   "source": [
    "xMat=mat(xArr)\n",
    "yMat=mat(yArr).T\n",
    "xMat=regularize(xMat)\n",
    "yM=mean(yMat,0)\n",
    "yMat=yMat- yM\n",
    "weights=standRegres(xMat,yMat.T)\n",
    "weights.T"
   ]
  },
  {
   "cell_type": "code",
   "execution_count": 135,
   "metadata": {
    "collapsed": true
   },
   "outputs": [],
   "source": [
    "def scrapePage(inFile,outFile,yr,numPce,origPrc):\n",
    "    from BeautifulSoup import BeautifulSoup\n",
    "    fr = open(inFile); fw=open(outFile,'a') #a is append mode writing\n",
    "    soup = BeautifulSoup(fr.read())\n",
    "    i=1\n",
    "    currentRow = soup.findAll('table', r=\"%d\" % i)\n",
    "    while(len(currentRow)!=0):\n",
    "        currentRow = soup.findAll('table', r=\"%d\" % i)\n",
    "        title = currentRow[0].findAll('a')[1].text\n",
    "        lwrTitle = title.lower()\n",
    "        if (lwrTitle.find('new') > -1) or (lwrTitle.find('nisb') > -1):\n",
    "            newFlag = 1.0\n",
    "        else:\n",
    "            newFlag = 0.0\n",
    "        soldUnicde = currentRow[0].findAll('td')[3].findAll('span')\n",
    "        if len(soldUnicde)==0:\n",
    "            print \"item #%d did not sell\" % i\n",
    "        else:\n",
    "            soldPrice = currentRow[0].findAll('td')[4]\n",
    "            priceStr = soldPrice.text\n",
    "            priceStr = priceStr.replace('$','') #strips out $\n",
    "            priceStr = priceStr.replace(',','') #strips out ,\n",
    "            if len(soldPrice)>1:\n",
    "                priceStr = priceStr.replace('Free shipping', '') #strips out Free Shipping\n",
    "            print \"%s\\t%d\\t%s\" % (priceStr,newFlag,title)\n",
    "            fw.write(\"%d\\t%d\\t%d\\t%f\\t%s\\n\" % (yr,numPce,newFlag,origPrc,priceStr))\n",
    "        i += 1\n",
    "        currentRow = soup.findAll('table', r=\"%d\" % i)\n",
    "    fw.close()\n",
    "    \n",
    "def setDataCollect():\n",
    "    scrapePage('setHtml/lego8288.html','out.txt', 2006, 800, 49.99)\n",
    "    scrapePage('setHtml/lego10030.html','out.txt', 2002, 3096, 269.99)\n",
    "    scrapePage('setHtml/lego10179.html','out.txt', 2007, 5195, 499.99)\n",
    "    scrapePage('setHtml/lego10181.html','out.txt', 2007, 3428, 199.99)\n",
    "    scrapePage('setHtml/lego10189.html','out.txt', 2008, 5922, 299.99)\n",
    "    scrapePage('setHtml/lego10196.html','out.txt', 2009, 3263, 249.99)"
   ]
  },
  {
   "cell_type": "code",
   "execution_count": 142,
   "metadata": {
    "collapsed": false
   },
   "outputs": [],
   "source": [
    "lgX=[];lgY=[]\n",
    "lgX,lgY=loadDataSet(\"out.txt\")"
   ]
  },
  {
   "cell_type": "code",
   "execution_count": 144,
   "metadata": {
    "collapsed": false
   },
   "outputs": [
    {
     "data": {
      "text/plain": [
       "((63, 4), (63,))"
      ]
     },
     "execution_count": 144,
     "metadata": {},
     "output_type": "execute_result"
    }
   ],
   "source": [
    "shape(lgX),shape(lgY)"
   ]
  },
  {
   "cell_type": "code",
   "execution_count": 146,
   "metadata": {
    "collapsed": false
   },
   "outputs": [],
   "source": [
    "lgX1=mat(ones((63,5)))\n",
    "lgX1[:,1:5]=mat(lgX)"
   ]
  },
  {
   "cell_type": "code",
   "execution_count": 147,
   "metadata": {
    "collapsed": false
   },
   "outputs": [
    {
     "data": {
      "text/plain": [
       "[2006.0, 800.0, 0.0, 49.99]"
      ]
     },
     "execution_count": 147,
     "metadata": {},
     "output_type": "execute_result"
    }
   ],
   "source": [
    "lgX[0]"
   ]
  },
  {
   "cell_type": "code",
   "execution_count": 148,
   "metadata": {
    "collapsed": false
   },
   "outputs": [
    {
     "data": {
      "text/plain": [
       "matrix([[  1.00000000e+00,   2.00600000e+03,   8.00000000e+02,\n",
       "           0.00000000e+00,   4.99900000e+01]])"
      ]
     },
     "execution_count": 148,
     "metadata": {},
     "output_type": "execute_result"
    }
   ],
   "source": [
    "lgX1[0]"
   ]
  },
  {
   "cell_type": "code",
   "execution_count": 149,
   "metadata": {
    "collapsed": true
   },
   "outputs": [],
   "source": [
    "ws=standRegres(lgX1,lgY)"
   ]
  },
  {
   "cell_type": "code",
   "execution_count": 152,
   "metadata": {
    "collapsed": false
   },
   "outputs": [
    {
     "data": {
      "text/plain": [
       "matrix([[  5.53199701e+04],\n",
       "        [ -2.75928219e+01],\n",
       "        [ -2.68392234e-02],\n",
       "        [ -1.12208481e+01],\n",
       "        [  2.57604055e+00]])"
      ]
     },
     "execution_count": 152,
     "metadata": {},
     "output_type": "execute_result"
    }
   ],
   "source": [
    "ws"
   ]
  },
  {
   "cell_type": "code",
   "execution_count": 157,
   "metadata": {
    "collapsed": false
   },
   "outputs": [
    {
     "data": {
      "text/plain": [
       "matrix([[ 76.0741884]])"
      ]
     },
     "execution_count": 157,
     "metadata": {},
     "output_type": "execute_result"
    }
   ],
   "source": [
    "lgX1[0]*ws"
   ]
  },
  {
   "cell_type": "code",
   "execution_count": 158,
   "metadata": {
    "collapsed": false
   },
   "outputs": [
    {
     "data": {
      "text/plain": [
       "matrix([[ 431.17797659]])"
      ]
     },
     "execution_count": 158,
     "metadata": {},
     "output_type": "execute_result"
    }
   ],
   "source": [
    "lgX1[-1]*ws"
   ]
  },
  {
   "cell_type": "code",
   "execution_count": 159,
   "metadata": {
    "collapsed": false
   },
   "outputs": [
    {
     "data": {
      "text/plain": [
       "matrix([[ 516.20733092]])"
      ]
     },
     "execution_count": 159,
     "metadata": {},
     "output_type": "execute_result"
    }
   ],
   "source": [
    "lgX1[43]*ws"
   ]
  },
  {
   "cell_type": "code",
   "execution_count": 160,
   "metadata": {
    "collapsed": true
   },
   "outputs": [],
   "source": [
    "def crossValidation(xArr,yArr,numVal=10):\n",
    "    m = len(yArr)                           \n",
    "    indexList = range(m)\n",
    "    errorMat = zeros((numVal,30))#create error mat 30columns numVal rows\n",
    "    for i in range(numVal):\n",
    "        trainX=[]; trainY=[]\n",
    "        testX = []; testY = []\n",
    "        random.shuffle(indexList)\n",
    "        for j in range(m):#create training set based on first 90% of values in indexList\n",
    "            if j < m*0.9: \n",
    "                trainX.append(xArr[indexList[j]])\n",
    "                trainY.append(yArr[indexList[j]])\n",
    "            else:\n",
    "                testX.append(xArr[indexList[j]])\n",
    "                testY.append(yArr[indexList[j]])\n",
    "        wMat = ridgeTest(trainX,trainY)    #get 30 weight vectors from ridge\n",
    "        for k in range(30):#loop over all of the ridge estimates\n",
    "            matTestX = mat(testX); matTrainX=mat(trainX)\n",
    "            meanTrain = mean(matTrainX,0)\n",
    "            varTrain = var(matTrainX,0)\n",
    "            matTestX = (matTestX-meanTrain)/varTrain #regularize test with training params\n",
    "            yEst = matTestX * mat(wMat[k,:]).T + mean(trainY)#test ridge results and store\n",
    "            errorMat[i,k]=rssError(yEst.T.A,array(testY))\n",
    "            #print errorMat[i,k]\n",
    "    meanErrors = mean(errorMat,0)#calc avg performance of the different ridge weight vectors\n",
    "    minMean = float(min(meanErrors))\n",
    "    bestWeights = wMat[nonzero(meanErrors==minMean)]\n",
    "    #can unregularize to get model\n",
    "    #when we regularized we wrote Xreg = (x-meanX)/var(x)\n",
    "    #we can now write in terms of x not Xreg:  x*w/var(x) - meanX/var(x) +meanY\n",
    "    xMat = mat(xArr); yMat=mat(yArr).T\n",
    "    meanX = mean(xMat,0); varX = var(xMat,0)\n",
    "    unReg = bestWeights/varX\n",
    "    print \"the best model from Ridge Regression is:\\n\",unReg\n",
    "    print \"with constant term: \",-1*sum(multiply(meanX,unReg)) + mean(yMat)"
   ]
  },
  {
   "cell_type": "code",
   "execution_count": 184,
   "metadata": {
    "collapsed": false
   },
   "outputs": [
    {
     "name": "stdout",
     "output_type": "stream",
     "text": [
      "the best model from Ridge Regression is:\n",
      "[[ -2.76688859e+01   1.06685864e-03  -7.10478931e+00   1.88043772e+00]]\n",
      "with constant term:  55582.5307559\n"
     ]
    }
   ],
   "source": [
    "crossValidation(lgX,lgY,10)"
   ]
  },
  {
   "cell_type": "code",
   "execution_count": 185,
   "metadata": {
    "collapsed": false
   },
   "outputs": [
    {
     "data": {
      "text/plain": [
       "array([[ -1.45288906e+02,  -8.39360442e+03,  -3.28682450e+00,\n",
       "          4.42362406e+04],\n",
       "       [ -1.46649725e+02,  -1.89952152e+03,  -2.80638599e+00,\n",
       "          4.27891633e+04],\n",
       "       [ -1.44450432e+02,   8.55488076e+02,  -1.35089285e+00,\n",
       "          4.00885735e+04],\n",
       "       [ -1.37402474e+02,   1.64217093e+03,   1.95840783e+00,\n",
       "          3.44932120e+04],\n",
       "       [ -1.24750588e+02,   1.44326171e+03,   7.62540167e+00,\n",
       "          2.50647592e+04],\n",
       "       [ -1.10234679e+02,   8.81842164e+02,   1.40617304e+01,\n",
       "          1.43874420e+04],\n",
       "       [ -9.96484167e+01,   4.17805568e+02,   1.87140361e+01,\n",
       "          6.66770425e+03],\n",
       "       [ -9.40345090e+01,   1.71289137e+02,   2.10844952e+01,\n",
       "          2.71206176e+03],\n",
       "       [ -9.11400659e+01,   6.57287394e+01,   2.20487105e+01,\n",
       "          1.03800465e+03],\n",
       "       [ -8.86246985e+01,   2.45452725e+01,   2.23181664e+01,\n",
       "          3.87564774e+02],\n",
       "       [ -8.41447674e+01,   9.05861459e+00,   2.21495534e+01,\n",
       "          1.43313895e+02],\n",
       "       [ -7.44804291e+01,   3.31863501e+00,   2.14607512e+01,\n",
       "          5.27810178e+01],\n",
       "       [ -5.68008473e+01,   1.20770663e+00,   2.00168153e+01,\n",
       "          1.93999701e+01],\n",
       "       [ -3.43546503e+01,   4.38238026e-01,   1.77836684e+01,\n",
       "          7.12719906e+00],\n",
       "       [ -1.62951276e+01,   1.59882766e-01,   1.48514658e+01,\n",
       "          2.62234165e+00],\n",
       "       [ -6.48291858e+00,   5.89025383e-02,   1.09847950e+01,\n",
       "          9.67404902e-01],\n",
       "       [ -2.35268585e+00,   2.18391027e-02,   6.61152257e+00,\n",
       "          3.57478187e-01],\n",
       "       [ -8.35001919e-01,   8.09519290e-03,   3.19552087e+00,\n",
       "          1.32007993e-01],\n",
       "       [ -2.99711902e-01,   2.99108326e-03,   1.33043325e+00,\n",
       "          4.86659524e-02],\n",
       "       [ -1.08982743e-01,   1.10249682e-03,   5.14449554e-01,\n",
       "          1.79199150e-02],\n",
       "       [ -3.99038878e-02,   4.05898142e-04,   1.92885670e-01,\n",
       "          6.59479857e-03],\n",
       "       [ -1.46534283e-02,   1.49365062e-04,   7.14631760e-02,\n",
       "          2.42642878e-03],\n",
       "       [ -5.38707897e-03,   5.49542829e-05,   2.63587872e-02,\n",
       "          8.92679468e-04],\n",
       "       [ -1.98130399e-03,   2.02173589e-05,   9.70622185e-03,\n",
       "          3.28404700e-04],\n",
       "       [ -7.28814363e-04,   7.43766021e-06,   3.57198872e-03,\n",
       "          1.20814188e-04],\n",
       "       [ -2.68106796e-04,   2.73617711e-06,   1.31423307e-03,\n",
       "          4.44451712e-05],\n",
       "       [ -9.86297565e-05,   1.00658531e-06,   4.83502591e-04,\n",
       "          1.63504803e-05],\n",
       "       [ -3.62836944e-05,   3.70302314e-07,   1.77873811e-04,\n",
       "          6.01500768e-06],\n",
       "       [ -1.33480028e-05,   1.36226645e-07,   6.54365445e-05,\n",
       "          2.21279795e-06],\n",
       "       [ -4.91045279e-06,   5.01149871e-08,   2.40728171e-05,\n",
       "          8.14042912e-07]])"
      ]
     },
     "execution_count": 185,
     "metadata": {},
     "output_type": "execute_result"
    }
   ],
   "source": [
    "ridgeTest(lgX,lgY)"
   ]
  }
 ],
 "metadata": {
  "kernelspec": {
   "display_name": "Python 2",
   "language": "python",
   "name": "python2"
  },
  "language_info": {
   "codemirror_mode": {
    "name": "ipython",
    "version": 2
   },
   "file_extension": ".py",
   "mimetype": "text/x-python",
   "name": "python",
   "nbconvert_exporter": "python",
   "pygments_lexer": "ipython2",
   "version": "2.7.13"
  }
 },
 "nbformat": 4,
 "nbformat_minor": 0
}
